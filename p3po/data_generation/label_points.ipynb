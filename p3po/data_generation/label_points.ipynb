{
 "cells": [
  {
   "cell_type": "code",
   "execution_count": 56,
   "metadata": {},
   "outputs": [
    {
     "data": {
      "text/plain": [
       "['clean_with_cleaner',\n",
       " 'drive_toy_car',\n",
       " 'put_orange_in_plate',\n",
       " 'put_green_block_in_chest',\n",
       " 'stir_with_green_spatula',\n",
       " 'remove_green_block_from_chest',\n",
       " 'pour_with_cup_2',\n",
       " 'move_tennisball_with_cup',\n",
       " 'pour_with_cup',\n",
       " 'scoop_with_orange_spoon',\n",
       " 'put_strawberry_in_plate',\n",
       " 'pick_up_plate',\n",
       " 'put_pear_in_plate']"
      ]
     },
     "execution_count": 56,
     "metadata": {},
     "output_type": "execute_result"
    }
   ],
   "source": [
    "from pathlib import Path\n",
    "\n",
    "[f.stem for f in Path(\"/scratch/data/open_teach/processed_data\").iterdir()]"
   ]
  },
  {
   "cell_type": "code",
   "execution_count": null,
   "metadata": {},
   "outputs": [],
   "source": [
    "import cv2\n",
    "from pathlib import Path\n",
    "# If you want to read a video file set the path under path,\n",
    "# If you want to use a specific image set use_video to False and give the image path under path\n",
    "#TODO: Set the path to the video file or image file\n",
    "task_name = \"put_pear_in_plate\"\n",
    "use_video = True\n",
    "path = f\"/scratch/data/open_teach/processed_data/{task_name}/demonstrations/demonstration_1/videos/camera0.mp4\"\n",
    "\n",
    "# TODO: If you have an open teach pickle you can use that instead of the video/image, set use_pickle to True and set the path/pixel_key\n",
    "# If the image that shows at the bottom is bgr set original_bgr to True\n",
    "use_pickle = False\n",
    "pickle_path = f\"/fs/vulcan-projects/verigraph_3d/data/P3PO/expert_demos/{task_name}.pkl\"\n",
    "pixel_key = \"pixels0\"\n",
    "original_bgr = True\n",
    "\n",
    "#TODO: Set the task name here -- this will be used to save the output\n",
    "\n",
    "\n",
    "# Get the first image from the demonstration\n",
    "if use_pickle:\n",
    "    import pickle\n",
    "    with open(pickle_path, 'rb') as f:\n",
    "        data = pickle.load(f)\n",
    "    img = data['observations'][0][pixel_key][0]\n",
    "    use_video = False\n",
    "    if original_bgr:\n",
    "        img = img[:,:,::-1]\n",
    "else:\n",
    "    img = None\n",
    "    if use_video:\n",
    "        cap = cv2.VideoCapture(path)\n",
    "        while(cap.isOpened()):\n",
    "            ret, frame = cap.read()\n",
    "            img = frame.copy()\n",
    "            break\n",
    "    else:\n",
    "        img = cv2.imread(path)\n",
    "\n",
    "    # We flip here because CV2 reads in as BGR\n",
    "    img = img[:,:,::-1]\n",
    "\n",
    "#TODO: If its hard to see the image, you can increase the size_multiplier, this won't affect the selected coordinates\n",
    "size_multiplier = 1\n",
    "\n",
    "coordinates_path = \"/scratch/repos/P3PO/coordinates\""
   ]
  },
  {
   "cell_type": "code",
   "execution_count": 99,
   "metadata": {},
   "outputs": [],
   "source": [
    "%gui asyncio\n",
    "\n",
    "import os\n",
    "from PIL import Image\n",
    "\n",
    "import numpy as np\n",
    "from IPython.display import display, Javascript\n",
    "import ipywidgets as widgets\n",
    "from ipycanvas import Canvas, hold_canvas\n",
    "import pickle\n",
    "\n",
    "import io\n",
    "import asyncio\n",
    "import logging\n",
    "\n",
    "# Define an async function to wait for button click\n",
    "async def wait_for_click(button):\n",
    "    # Create a future object\n",
    "    future = asyncio.Future()\n",
    "    # Define the click event handler\n",
    "    def on_button_clicked(b):\n",
    "        future.set_result(None)\n",
    "    # Attach the event handler to the button\n",
    "    button.on_click(on_button_clicked)\n",
    "    # Wait until the future is set\n",
    "    await future\n",
    "\n",
    "class Points():\n",
    "    def __init__(self, env_name, img, coordinates_path, size_multiplier=1):\n",
    "        logging.getLogger().setLevel(logging.DEBUG)\n",
    "        logging.info(\"Starting the Points class\")\n",
    "        self.img = img\n",
    "        self.size_multiplier = size_multiplier\n",
    "        self.coordinates_path = coordinates_path\n",
    "        self.env_name = env_name\n",
    "\n",
    "        # Save the image to a bytes buffer\n",
    "        image = Image.fromarray(self.img)\n",
    "        size = img.shape\n",
    "        image = image.resize((size[1] * self.size_multiplier, size[0] * self.size_multiplier))\n",
    "        buffer = io.BytesIO()\n",
    "        image.save(buffer, format='PNG')\n",
    "        buffer.seek(0)\n",
    "\n",
    "        # Create an IPyWidgets Image widget\n",
    "        self.canvas = Canvas(width=size[1] * self.size_multiplier, height=size[0] * self.size_multiplier)\n",
    "        # Define the size of each cell\n",
    "\n",
    "        self.canvas.put_image_data(np.array(image), 0, 0)\n",
    "\n",
    "        # Display coordinates\n",
    "        coords_label = widgets.Label(value=\"Click on the image to select the coordinates\")\n",
    "\n",
    "        # Define the click event handler\n",
    "        self.coords = []\n",
    "        def on_click(x, y):\n",
    "            coords_label.value = f\"Coordinates: ({x}, {y})\"\n",
    "            self.coords.append((0, x, y))\n",
    "\n",
    "            with hold_canvas(self.canvas):\n",
    "                self.canvas.put_image_data(np.array(image), 0, 0)  # Redraw the original image\n",
    "\n",
    "                self.canvas.fill_style = 'red'\n",
    "                for coord in self.coords:\n",
    "                    x, y = coord[1] // self.size_multiplier, coord[2] // self.size_multiplier\n",
    "                    self.canvas.fill_circle(x, y, 2)\n",
    "\n",
    "        # Connect the click event to the handler\n",
    "        self.canvas.on_mouse_down(on_click)\n",
    "\n",
    "        self.button = widgets.Button(description=\"Save Points\")\n",
    "\n",
    "        # Display the widgets\n",
    "        self.vbox = widgets.VBox([self.canvas, coords_label, self.button])\n",
    "\n",
    "        # # Display the widget\n",
    "        display(self.vbox)\n",
    "\n",
    "    def on_done(self):\n",
    "        logging.info(\"saving\")\n",
    "        Path(self.coordinates_path + \"/coords/\").mkdir(parents=True, exist_ok=True)\n",
    "        with open(self.coordinates_path + \"/coords/\" + self.env_name + \".pkl\", 'wb') as f:\n",
    "            try:\n",
    "                pickle.dump(self.coords, f)\n",
    "            except Exception as e:\n",
    "                logging.info(e)\n",
    "        Path(self.coordinates_path + \"/images/\").mkdir(parents=True, exist_ok=True)\n",
    "        with open(self.coordinates_path + \"/images/\" + self.env_name + \".png\", 'wb') as f:\n",
    "            try:\n",
    "                image = Image.fromarray(self.img)\n",
    "                image.save(f)\n",
    "            except Exception as e:\n",
    "                logging.info(e)\n",
    "        logging.info(\"saved\")"
   ]
  },
  {
   "cell_type": "code",
   "execution_count": null,
   "metadata": {},
   "outputs": [
    {
     "data": {
      "text/plain": [
       "<Task pending name='Task-34' coro=<f() running at /tmp/ipykernel_314328/3187731821.py:1>>"
      ]
     },
     "execution_count": 100,
     "metadata": {},
     "output_type": "execute_result"
    },
    {
     "name": "stderr",
     "output_type": "stream",
     "text": [
      "INFO:root:Starting the Points class\n"
     ]
    },
    {
     "data": {
      "application/vnd.jupyter.widget-view+json": {
       "model_id": "b2f616773bf6484cb4465bd6164cd02f",
       "version_major": 2,
       "version_minor": 0
      },
      "text/plain": [
       "VBox(children=(Canvas(height=480, width=640), Label(value='Click on the image to select the coordinates'), But…"
      ]
     },
     "metadata": {},
     "output_type": "display_data"
    },
    {
     "name": "stderr",
     "output_type": "stream",
     "text": [
      "INFO:root:saving\n",
      "INFO:root:saved\n"
     ]
    }
   ],
   "source": [
    "async def f():\n",
    "    point = Points(task_name, img, coordinates_path, size_multiplier)\n",
    "    x = await wait_for_click(point.button)\n",
    "    point.vbox.close()\n",
    "    point.canvas.close()\n",
    "    point.on_done()\n",
    "asyncio.ensure_future(f())"
   ]
  }
 ],
 "metadata": {
  "kernelspec": {
   "display_name": "p3po",
   "language": "python",
   "name": "python3"
  },
  "language_info": {
   "codemirror_mode": {
    "name": "ipython",
    "version": 3
   },
   "file_extension": ".py",
   "mimetype": "text/x-python",
   "name": "python",
   "nbconvert_exporter": "python",
   "pygments_lexer": "ipython3",
   "version": "3.9.23"
  }
 },
 "nbformat": 4,
 "nbformat_minor": 2
}
