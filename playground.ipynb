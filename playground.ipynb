{
 "cells": [
  {
   "cell_type": "code",
   "execution_count": 1,
   "metadata": {},
   "outputs": [],
   "source": [
    "import pickle\n",
    "\n",
    "expert_demos_path = '/scratch/repos/P3PO/expert_demos/xarm_env/put_in_chest.pkl'\n",
    "graph_path = '/scratch/repos/P3PO/processed_data/points/put_in_chest.pkl'\n",
    "\n",
    "# demo = pickle.load(open(expert_demos_path, 'rb'))\n",
    "graph = pickle.load(open(graph_path, 'rb'))"
   ]
  },
  {
   "cell_type": "code",
   "execution_count": 2,
   "metadata": {},
   "outputs": [
    {
     "name": "stdout",
     "output_type": "stream",
     "text": [
      "dict_keys(['episode_list', 'subsample', 'pixel_key', 'use_gt_depth', 'gt_depth_key', 'pickle_path', 'video_paths', 'cfg'])\n"
     ]
    }
   ],
   "source": [
    "# print(demo.keys())\n",
    "print(graph.keys())"
   ]
  },
  {
   "cell_type": "code",
   "execution_count": 3,
   "metadata": {},
   "outputs": [
    {
     "name": "stdout",
     "output_type": "stream",
     "text": [
      "torch.Size([211, 24])\n"
     ]
    }
   ],
   "source": [
    "# obs = demo['observations']\n",
    "# print(obs[0].keys())\n",
    "episode_list = graph['episode_list']\n",
    "print(episode_list[0].shape)"
   ]
  },
  {
   "cell_type": "code",
   "execution_count": null,
   "metadata": {},
   "outputs": [],
   "source": [
    "print(grap)"
   ]
  }
 ],
 "metadata": {
  "kernelspec": {
   "display_name": "p3po",
   "language": "python",
   "name": "python3"
  },
  "language_info": {
   "codemirror_mode": {
    "name": "ipython",
    "version": 3
   },
   "file_extension": ".py",
   "mimetype": "text/x-python",
   "name": "python",
   "nbconvert_exporter": "python",
   "pygments_lexer": "ipython3",
   "version": "3.9.23"
  }
 },
 "nbformat": 4,
 "nbformat_minor": 2
}
